{
  "nbformat": 4,
  "nbformat_minor": 0,
  "metadata": {
    "colab": {
      "name": "IPL_POINTS_TABLE_SCRAP.ipynb",
      "provenance": [],
      "authorship_tag": "ABX9TyP6s1vESPjFlQgXkKOBrOfK",
      "include_colab_link": true
    },
    "kernelspec": {
      "name": "python3",
      "display_name": "Python 3"
    },
    "language_info": {
      "name": "python"
    }
  },
  "cells": [
    {
      "cell_type": "markdown",
      "metadata": {
        "id": "view-in-github",
        "colab_type": "text"
      },
      "source": [
        "<a href=\"https://colab.research.google.com/github/aku019/Analytics-ML-DL-Learning/blob/main/IPL_POINTS_TABLE_SCRAP.ipynb\" target=\"_parent\"><img src=\"https://colab.research.google.com/assets/colab-badge.svg\" alt=\"Open In Colab\"/></a>"
      ]
    },
    {
      "cell_type": "code",
      "metadata": {
        "id": "IeWZUlm_yoyO"
      },
      "source": [
        "import csv\n",
        "from bs4 import BeautifulSoup\n",
        "import requests\n",
        "\n",
        "year = 2008\n",
        "line2=[]\n",
        "url = 'https://www.iplt20.com/points-table/men/'\n",
        "fields = [\"Season\",\"Team\",\"Matches\",\"Won\",\"Lost\",\"Tied\",\"No Result\",\"Points\",\"NRR\",\"For Runs\",\"Aggainst Runs\"]\n",
        "\n",
        "\n",
        "while(year<2021):\n",
        "  urlFinal = url+str(year)\n",
        "  html_text = requests.get(urlFinal).text\n",
        "  soup = BeautifulSoup(html_text,'lxml')\n",
        "  s = soup.find_all('tr',class_=\"\")\n",
        "  for d in s:\n",
        "    team = d.find_all('span',class_=\"standings-table__team-name js-team\")[0].text\n",
        "    matches = d.find_all('td',class_=\"standings-table__padded\")[0].text\n",
        "    y = d.find_all('td',class_=\"standings-table__optional\")\n",
        "    nrr = d.find_all('td',class_=\"\")[0].text\n",
        "    points = d.find_all('td',class_=\"standings-table__highlight js-points\")[0].text\n",
        "\n",
        "    won=y[0].text\n",
        "    lost=y[1].text\n",
        "    tied=y[2].text\n",
        "    nr=y[3].text\n",
        "    forRuns=y[4].text\n",
        "    aggRuns=y[5].text\n",
        " \n",
        "    print(team)\n",
        "    print(matches)\n",
        "    print(nrr)\n",
        "    print(points)\n",
        "    print(won)\n",
        "    print(lost)\n",
        "    print(tied)\n",
        "    print(nr)\n",
        "    print(forRuns)\n",
        "    print(aggRuns)\n",
        "    line=[year,team,matches,won,lost,tied,nr,points,nrr,forRuns,aggRuns]\n",
        "\n",
        "    line2.append(line)\n",
        "  year=year+1\n",
        "\n",
        "\n",
        "\n",
        "\n",
        "\n",
        "\n",
        "\n",
        "\n",
        "with open('IPL_Points_Table.csv', 'w') as f:\n",
        "      \n",
        "    # using csv.writer method from CSV package\n",
        "    write = csv.writer(f)\n",
        "      \n",
        "    write.writerow(fields)\n",
        "    write.writerows(line2)"
      ],
      "execution_count": null,
      "outputs": []
    }
  ]
}